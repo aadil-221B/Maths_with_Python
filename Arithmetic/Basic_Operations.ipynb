{
 "cells": [
  {
   "cell_type": "code",
   "execution_count": 1,
   "id": "439b6368",
   "metadata": {},
   "outputs": [],
   "source": [
    "x = 7\n",
    "y = -2\n",
    "z = 5"
   ]
  },
  {
   "cell_type": "code",
   "execution_count": 2,
   "id": "222da4ff",
   "metadata": {},
   "outputs": [
    {
     "data": {
      "text/plain": [
       "42"
      ]
     },
     "execution_count": 2,
     "metadata": {},
     "output_type": "execute_result"
    }
   ],
   "source": [
    "3*x*(4+y)"
   ]
  },
  {
   "cell_type": "code",
   "execution_count": 3,
   "id": "4cadcba0",
   "metadata": {},
   "outputs": [
    {
     "data": {
      "text/plain": [
       "0.0"
      ]
     },
     "execution_count": 3,
     "metadata": {},
     "output_type": "execute_result"
    }
   ],
   "source": [
    "-y-(x+3)/z"
   ]
  },
  {
   "cell_type": "code",
   "execution_count": 4,
   "id": "78e18ef7",
   "metadata": {},
   "outputs": [],
   "source": [
    "### we can also use a variable as tuples"
   ]
  },
  {
   "cell_type": "code",
   "execution_count": 5,
   "id": "481aa369",
   "metadata": {},
   "outputs": [],
   "source": [
    "x,y,z = (7,-2,5)"
   ]
  },
  {
   "cell_type": "code",
   "execution_count": 6,
   "id": "807be121",
   "metadata": {},
   "outputs": [
    {
     "data": {
      "text/plain": [
       "7"
      ]
     },
     "execution_count": 6,
     "metadata": {},
     "output_type": "execute_result"
    }
   ],
   "source": [
    "x"
   ]
  },
  {
   "cell_type": "code",
   "execution_count": 7,
   "id": "04810aeb",
   "metadata": {},
   "outputs": [
    {
     "data": {
      "text/plain": [
       "-2"
      ]
     },
     "execution_count": 7,
     "metadata": {},
     "output_type": "execute_result"
    }
   ],
   "source": [
    "y"
   ]
  },
  {
   "cell_type": "code",
   "execution_count": 8,
   "id": "bb4e2f0f",
   "metadata": {},
   "outputs": [
    {
     "data": {
      "text/plain": [
       "5"
      ]
     },
     "execution_count": 8,
     "metadata": {},
     "output_type": "execute_result"
    }
   ],
   "source": [
    "z"
   ]
  },
  {
   "cell_type": "code",
   "execution_count": 11,
   "id": "4f38df9e",
   "metadata": {},
   "outputs": [],
   "source": [
    "import pandas as pd"
   ]
  },
  {
   "cell_type": "code",
   "execution_count": 14,
   "id": "ee960e22",
   "metadata": {},
   "outputs": [],
   "source": [
    "import IPython"
   ]
  },
  {
   "cell_type": "code",
   "execution_count": 15,
   "id": "c356b7c7",
   "metadata": {},
   "outputs": [],
   "source": [
    "from IPython.display import display, Math"
   ]
  },
  {
   "cell_type": "code",
   "execution_count": 16,
   "id": "13d4425d",
   "metadata": {},
   "outputs": [
    {
     "data": {
      "text/plain": [
       "'4'"
      ]
     },
     "metadata": {},
     "output_type": "display_data"
    }
   ],
   "source": [
    "display(\"4\")"
   ]
  },
  {
   "cell_type": "code",
   "execution_count": 17,
   "id": "3c5892c2",
   "metadata": {},
   "outputs": [
    {
     "data": {
      "text/plain": [
       "'4 + 3 = 7'"
      ]
     },
     "metadata": {},
     "output_type": "display_data"
    }
   ],
   "source": [
    "display(\"4 + 3 = 7\")"
   ]
  },
  {
   "cell_type": "code",
   "execution_count": 21,
   "id": "15bb0bee",
   "metadata": {},
   "outputs": [
    {
     "data": {
      "text/plain": [
       "'4 + 3 = 7'"
      ]
     },
     "metadata": {},
     "output_type": "display_data"
    }
   ],
   "source": [
    "display(\"4 + 3 = \"+str(4+3))"
   ]
  },
  {
   "cell_type": "code",
   "execution_count": 22,
   "id": "748fc568",
   "metadata": {},
   "outputs": [
    {
     "data": {
      "text/latex": [
       "$\\displaystyle 4+3 = 7$"
      ],
      "text/plain": [
       "<IPython.core.display.Math object>"
      ]
     },
     "metadata": {},
     "output_type": "display_data"
    }
   ],
   "source": [
    "display(Math(\"4+3 = 7\"))"
   ]
  },
  {
   "cell_type": "markdown",
   "id": "f7c16f50",
   "metadata": {},
   "source": [
    "### Display strings:\n",
    "##### use of f string\n",
    "##### use of  %g"
   ]
  },
  {
   "cell_type": "code",
   "execution_count": 31,
   "id": "d23dae8b",
   "metadata": {},
   "outputs": [],
   "source": [
    "x , y = (4,5)"
   ]
  },
  {
   "cell_type": "code",
   "execution_count": 30,
   "id": "54867964",
   "metadata": {},
   "outputs": [
    {
     "data": {
      "text/latex": [
       "$\\displaystyle 4 + 5 = 9$"
      ],
      "text/plain": [
       "<IPython.core.display.Math object>"
      ]
     },
     "metadata": {},
     "output_type": "display_data"
    }
   ],
   "source": [
    "display(Math(str(x)+\" + \"+str(y)+ \" = \"+str(str(x+y))))"
   ]
  },
  {
   "cell_type": "code",
   "execution_count": 40,
   "id": "15d83226",
   "metadata": {},
   "outputs": [],
   "source": [
    "a,b = (20,30)"
   ]
  },
  {
   "cell_type": "code",
   "execution_count": 43,
   "id": "c6350e8e",
   "metadata": {},
   "outputs": [
    {
     "data": {
      "text/plain": [
       "'50'"
      ]
     },
     "execution_count": 43,
     "metadata": {},
     "output_type": "execute_result"
    }
   ],
   "source": [
    "result = str(a+b)\n",
    "result"
   ]
  },
  {
   "cell_type": "code",
   "execution_count": 44,
   "id": "e7445794",
   "metadata": {},
   "outputs": [],
   "source": [
    "x1 = str(a)\n",
    "x2 = str(b)\n"
   ]
  },
  {
   "cell_type": "code",
   "execution_count": 46,
   "id": "46a87598",
   "metadata": {},
   "outputs": [
    {
     "data": {
      "text/latex": [
       "$\\displaystyle 20 + 30 = 50$"
      ],
      "text/plain": [
       "<IPython.core.display.Math object>"
      ]
     },
     "metadata": {},
     "output_type": "display_data"
    }
   ],
   "source": [
    "display(Math(x1+\" + \"+x2+\" = \"+result))"
   ]
  },
  {
   "cell_type": "code",
   "execution_count": 51,
   "id": "cd883b0c",
   "metadata": {},
   "outputs": [
    {
     "data": {
      "text/latex": [
       "$\\displaystyle x+y = 9$"
      ],
      "text/plain": [
       "<IPython.core.display.Math object>"
      ]
     },
     "metadata": {},
     "output_type": "display_data"
    }
   ],
   "source": [
    "display(Math(\"x+y = {}\".format(x+y)))"
   ]
  },
  {
   "cell_type": "code",
   "execution_count": 52,
   "id": "e3bb8b10",
   "metadata": {},
   "outputs": [
    {
     "data": {
      "text/plain": [
       "'x+y = 9'"
      ]
     },
     "execution_count": 52,
     "metadata": {},
     "output_type": "execute_result"
    }
   ],
   "source": [
    "f\"x+y = {x+y}\""
   ]
  },
  {
   "cell_type": "code",
   "execution_count": 53,
   "id": "816e50f0",
   "metadata": {},
   "outputs": [
    {
     "data": {
      "text/latex": [
       "$\\displaystyle x+y = 9$"
      ],
      "text/plain": [
       "<IPython.core.display.Math object>"
      ]
     },
     "metadata": {},
     "output_type": "display_data"
    }
   ],
   "source": [
    "display(Math(f\"x+y = {x+y}\"))"
   ]
  },
  {
   "cell_type": "code",
   "execution_count": 56,
   "id": "07a16d43",
   "metadata": {},
   "outputs": [
    {
     "data": {
      "text/plain": [
       "'\\\\frac45'"
      ]
     },
     "execution_count": 56,
     "metadata": {},
     "output_type": "execute_result"
    }
   ],
   "source": [
    "f\"\\\\frac{4}{5}\""
   ]
  },
  {
   "cell_type": "code",
   "execution_count": 61,
   "id": "9106ab2e",
   "metadata": {},
   "outputs": [
    {
     "data": {
      "text/latex": [
       "$\\displaystyle \\frac45 = 0.8$"
      ],
      "text/plain": [
       "<IPython.core.display.Math object>"
      ]
     },
     "metadata": {},
     "output_type": "display_data"
    }
   ],
   "source": [
    "display(Math(f\"\\\\frac{4}{5} = {4/5}\"))"
   ]
  },
  {
   "cell_type": "code",
   "execution_count": 62,
   "id": "21fdd104",
   "metadata": {},
   "outputs": [],
   "source": [
    "x = 3.4\n",
    "y = 17"
   ]
  },
  {
   "cell_type": "code",
   "execution_count": 64,
   "id": "6ce15d83",
   "metadata": {},
   "outputs": [
    {
     "data": {
      "text/latex": [
       "$\\displaystyle 3.4\\times17 = 57.8$"
      ],
      "text/plain": [
       "<IPython.core.display.Math object>"
      ]
     },
     "metadata": {},
     "output_type": "display_data"
    }
   ],
   "source": [
    "display(Math(f\"{x}\\\\times{y} = {x*y}\"))"
   ]
  },
  {
   "cell_type": "code",
   "execution_count": 65,
   "id": "b9b9b999",
   "metadata": {},
   "outputs": [],
   "source": [
    "x = 7\n",
    "y = -2\n",
    "z = 5"
   ]
  },
  {
   "cell_type": "code",
   "execution_count": 85,
   "id": "eacf5325",
   "metadata": {},
   "outputs": [
    {
     "data": {
      "text/latex": [
       "$\\displaystyle 3x(4 + y) = ?$"
      ],
      "text/plain": [
       "<IPython.core.display.Math object>"
      ]
     },
     "metadata": {},
     "output_type": "display_data"
    },
    {
     "data": {
      "text/latex": [
       "$\\displaystyle - y - \\frac {x+3}{z} = ?$"
      ],
      "text/plain": [
       "<IPython.core.display.Math object>"
      ]
     },
     "metadata": {},
     "output_type": "display_data"
    }
   ],
   "source": [
    "display(Math(f\"3x(4 + y) = ?\"))\n",
    "display(Math(\"- y - \\\\frac {x+3}{z} = ?\"))"
   ]
  },
  {
   "cell_type": "code",
   "execution_count": 86,
   "id": "444c7bb3",
   "metadata": {},
   "outputs": [
    {
     "data": {
      "text/latex": [
       "$\\displaystyle 3x(4 + y) = ?$"
      ],
      "text/plain": [
       "<IPython.core.display.Math object>"
      ]
     },
     "metadata": {},
     "output_type": "display_data"
    }
   ],
   "source": [
    "display(Math(\"3x(4 + y) = ?\"))"
   ]
  },
  {
   "cell_type": "code",
   "execution_count": 88,
   "id": "2847b10e",
   "metadata": {},
   "outputs": [
    {
     "data": {
      "text/latex": [
       "$\\displaystyle 3\\times7(4 + -2) = 42$"
      ],
      "text/plain": [
       "<IPython.core.display.Math object>"
      ]
     },
     "metadata": {},
     "output_type": "display_data"
    }
   ],
   "source": [
    "display(Math(f\"3\\\\times{x}(4 + {y}) = {3*x*(4+y)}\"))"
   ]
  },
  {
   "cell_type": "code",
   "execution_count": 100,
   "id": "770b92e5",
   "metadata": {},
   "outputs": [
    {
     "data": {
      "text/latex": [
       "$\\displaystyle - y - \\frac {x+3}{z} = ?$"
      ],
      "text/plain": [
       "<IPython.core.display.Math object>"
      ]
     },
     "metadata": {},
     "output_type": "display_data"
    }
   ],
   "source": [
    "display(Math(\"- y - \\\\frac {x+3}{z} = ?\"))"
   ]
  },
  {
   "cell_type": "code",
   "execution_count": 102,
   "id": "5c38f679",
   "metadata": {},
   "outputs": [],
   "source": [
    "ans = -y - (x+3)/z"
   ]
  },
  {
   "cell_type": "code",
   "execution_count": 103,
   "id": "25b0b1a4",
   "metadata": {},
   "outputs": [
    {
     "data": {
      "text/latex": [
       "$\\displaystyle - {-2} - \\frac{7 + 3}{5} = {0}$"
      ],
      "text/plain": [
       "<IPython.core.display.Math object>"
      ]
     },
     "metadata": {},
     "output_type": "display_data"
    }
   ],
   "source": [
    "display(Math(\"- {%g} - \\\\frac{%g + 3}{%g} = {%g}\" %(y,x,z,ans)))"
   ]
  },
  {
   "cell_type": "code",
   "execution_count": 104,
   "id": "361daef1",
   "metadata": {},
   "outputs": [
    {
     "data": {
      "text/latex": [
       "$\\displaystyle - {-2} - \\frac{7 + 3}{5} = {0}$"
      ],
      "text/plain": [
       "<IPython.core.display.Math object>"
      ]
     },
     "metadata": {},
     "output_type": "display_data"
    }
   ],
   "source": [
    "display(Math(\"- {%g} - \\\\frac{%g + 3}{%g} = {%g}\" %(y,x,z,ans)))"
   ]
  },
  {
   "cell_type": "code",
   "execution_count": 106,
   "id": "e5179418",
   "metadata": {},
   "outputs": [],
   "source": [
    "# multiple ways to display\n",
    "# using f string\n",
    "# using %g "
   ]
  },
  {
   "cell_type": "markdown",
   "id": "7e76afde",
   "metadata": {},
   "source": [
    "#### Exponents:"
   ]
  },
  {
   "cell_type": "markdown",
   "id": "e72839ee",
   "metadata": {},
   "source": [
    "``use of ** ``"
   ]
  },
  {
   "cell_type": "code",
   "execution_count": 107,
   "id": "ac28275e",
   "metadata": {},
   "outputs": [
    {
     "data": {
      "text/plain": [
       "9"
      ]
     },
     "execution_count": 107,
     "metadata": {},
     "output_type": "execute_result"
    }
   ],
   "source": [
    "3**2"
   ]
  },
  {
   "cell_type": "code",
   "execution_count": 109,
   "id": "ba0b701d",
   "metadata": {},
   "outputs": [
    {
     "data": {
      "text/latex": [
       "$\\displaystyle 3^2 = 9$"
      ],
      "text/plain": [
       "<IPython.core.display.Math object>"
      ]
     },
     "metadata": {},
     "output_type": "display_data"
    }
   ],
   "source": [
    "display(Math(f'3^2 = {3**2}'))"
   ]
  },
  {
   "cell_type": "code",
   "execution_count": 110,
   "id": "0413dd6b",
   "metadata": {},
   "outputs": [
    {
     "name": "stdout",
     "output_type": "stream",
     "text": [
      "729\n"
     ]
    }
   ],
   "source": [
    "print(3**2 * 3**4)"
   ]
  },
  {
   "cell_type": "code",
   "execution_count": 112,
   "id": "389ec36a",
   "metadata": {},
   "outputs": [
    {
     "data": {
      "text/latex": [
       "$\\displaystyle 3^2 \\times 3^4 = 729$"
      ],
      "text/plain": [
       "<IPython.core.display.Math object>"
      ]
     },
     "metadata": {},
     "output_type": "display_data"
    }
   ],
   "source": [
    "display(Math(f'3^2 \\\\times 3^4 = {3**2 * 3**4}'))"
   ]
  },
  {
   "cell_type": "code",
   "execution_count": 125,
   "id": "419eed53",
   "metadata": {},
   "outputs": [],
   "source": [
    "x = 5\n",
    "y = 5.1"
   ]
  },
  {
   "cell_type": "code",
   "execution_count": 126,
   "id": "f507787d",
   "metadata": {},
   "outputs": [
    {
     "data": {
      "text/latex": [
       "$\\displaystyle x^{3/4} \\times 4^{y} = ?$"
      ],
      "text/plain": [
       "<IPython.core.display.Math object>"
      ]
     },
     "metadata": {},
     "output_type": "display_data"
    }
   ],
   "source": [
    "display(Math(\"x^{3/4} \\\\times 4^{y} = ?\" ))"
   ]
  },
  {
   "cell_type": "code",
   "execution_count": 131,
   "id": "2199525d",
   "metadata": {},
   "outputs": [],
   "source": [
    "ans = x**(3/4) * 4**y"
   ]
  },
  {
   "cell_type": "code",
   "execution_count": 132,
   "id": "e5bce48d",
   "metadata": {},
   "outputs": [
    {
     "data": {
      "text/latex": [
       "$\\displaystyle {5}^{3/4} \\times 4^{5.1} = {3933.086147822751ns}$"
      ],
      "text/plain": [
       "<IPython.core.display.Math object>"
      ]
     },
     "metadata": {},
     "output_type": "display_data"
    }
   ],
   "source": [
    "display(Math(\"{%g}^{3/4} \\\\times 4^{%g} = {%ans}\"%(x,y,ans)))"
   ]
  },
  {
   "cell_type": "code",
   "execution_count": 133,
   "id": "b76eefdb",
   "metadata": {},
   "outputs": [
    {
     "data": {
      "text/latex": [
       "$\\displaystyle \\frac{3^3}{x^y} = ?$"
      ],
      "text/plain": [
       "<IPython.core.display.Math object>"
      ]
     },
     "metadata": {},
     "output_type": "display_data"
    }
   ],
   "source": [
    "display(Math(\"\\\\frac{3^3}{x^y} = ?\" ))"
   ]
  },
  {
   "cell_type": "code",
   "execution_count": 134,
   "id": "9391aecb",
   "metadata": {},
   "outputs": [],
   "source": [
    "ans = 3**3 / x**y"
   ]
  },
  {
   "cell_type": "code",
   "execution_count": 137,
   "id": "3fafa499",
   "metadata": {},
   "outputs": [
    {
     "data": {
      "text/latex": [
       "$\\displaystyle \\frac{3^3}{5^5.1} = {0.00735558}$"
      ],
      "text/plain": [
       "<IPython.core.display.Math object>"
      ]
     },
     "metadata": {},
     "output_type": "display_data"
    }
   ],
   "source": [
    "display(Math(\"\\\\frac{3^3}{%g^%g} = {%g}\" %(x,y,ans)))"
   ]
  },
  {
   "cell_type": "code",
   "execution_count": 143,
   "id": "ffc5b181",
   "metadata": {},
   "outputs": [
    {
     "data": {
      "text/latex": [
       "$\\displaystyle 10^{x -4} = ?$"
      ],
      "text/plain": [
       "<IPython.core.display.Math object>"
      ]
     },
     "metadata": {},
     "output_type": "display_data"
    }
   ],
   "source": [
    "display(Math(\"10^{x -4} = ?\"))"
   ]
  },
  {
   "cell_type": "code",
   "execution_count": 144,
   "id": "00121351",
   "metadata": {},
   "outputs": [],
   "source": [
    "ans = 10**(x-4)"
   ]
  },
  {
   "cell_type": "code",
   "execution_count": 156,
   "id": "76ad3472",
   "metadata": {},
   "outputs": [
    {
     "data": {
      "text/latex": [
       "$\\displaystyle 10^{5 -4} = {10}$"
      ],
      "text/plain": [
       "<IPython.core.display.Math object>"
      ]
     },
     "metadata": {},
     "output_type": "display_data"
    }
   ],
   "source": [
    "display(Math(\"10^{%g -4} = {%g}\"%(x,ans)))"
   ]
  },
  {
   "cell_type": "markdown",
   "id": "c37a06ed",
   "metadata": {},
   "source": [
    "#### using for loops for computing Exponents"
   ]
  },
  {
   "cell_type": "code",
   "execution_count": 153,
   "id": "dd487c66",
   "metadata": {},
   "outputs": [
    {
     "name": "stdout",
     "output_type": "stream",
     "text": [
      "2  to the power of 0 is 1\n",
      "2  to the power of 1 is 2\n",
      "2  to the power of 2 is 4\n",
      "2  to the power of 3 is 8\n",
      "2  to the power of 4 is 16\n",
      "2  to the power of 5 is 32\n",
      "2  to the power of 6 is 64\n",
      "2  to the power of 7 is 128\n",
      "2  to the power of 8 is 256\n",
      "2  to the power of 9 is 512\n"
     ]
    }
   ],
   "source": [
    "base = 2\n",
    "for exponent in range(10):\n",
    "    print(f\"{base}  to the power of {exponent} is {base**exponent}\")"
   ]
  },
  {
   "cell_type": "code",
   "execution_count": 158,
   "id": "22ba9d3d",
   "metadata": {},
   "outputs": [
    {
     "name": "stdout",
     "output_type": "stream",
     "text": [
      "2  to the power of 0 is 1\n",
      "2  to the power of 1 is 2\n",
      "2  to the power of 2 is 4\n",
      "2  to the power of 3 is 8\n",
      "2  to the power of 4 is 16\n",
      "2  to the power of 5 is 32\n",
      "2  to the power of 6 is 64\n",
      "2  to the power of 7 is 128\n",
      "2  to the power of 8 is 256\n",
      "2  to the power of 9 is 512\n"
     ]
    }
   ],
   "source": [
    "# using %g\n",
    "base = 2\n",
    "for exponent in range(10):\n",
    "    print(\"%g  to the power of %g is %g\" %(base, exponent, base**exponent))"
   ]
  },
  {
   "cell_type": "code",
   "execution_count": 161,
   "id": "7de63e6f",
   "metadata": {},
   "outputs": [
    {
     "name": "stdout",
     "output_type": "stream",
     "text": [
      "{2}  to the power of {0} is {1}\n",
      "{2}  to the power of {1} is {2}\n",
      "{2}  to the power of {2} is {4}\n",
      "{2}  to the power of {3} is {8}\n",
      "{2}  to the power of {4} is {16}\n",
      "{2}  to the power of {5} is {32}\n",
      "{2}  to the power of {6} is {64}\n",
      "{2}  to the power of {7} is {128}\n",
      "{2}  to the power of {8} is {256}\n",
      "{2}  to the power of {9} is {512}\n"
     ]
    }
   ],
   "source": [
    "\n",
    "base = 2\n",
    "for exponent in range(10):\n",
    "    print(\"{%g}  to the power of {%g} is {%g}\" %(base, exponent, base**exponent))"
   ]
  },
  {
   "cell_type": "code",
   "execution_count": 163,
   "id": "1081d975",
   "metadata": {},
   "outputs": [
    {
     "name": "stdout",
     "output_type": "stream",
     "text": [
      "2  to the power of 0 is 1\n",
      "2  to the power of 1 is 2\n",
      "2  to the power of 2 is 4\n",
      "2  to the power of 3 is 8\n",
      "2  to the power of 4 is 16\n",
      "2  to the power of 5 is 32\n",
      "2  to the power of 6 is 64\n",
      "2  to the power of 7 is 128\n",
      "2  to the power of 8 is 256\n",
      "2  to the power of 9 is 512\n"
     ]
    }
   ],
   "source": [
    "# using .format()\n",
    "\n",
    "\n",
    "base = 2\n",
    "for exponent in range(10):\n",
    "    print(\"{}  to the power of {} is {}\" .format(base, exponent, base**exponent))"
   ]
  },
  {
   "cell_type": "code",
   "execution_count": null,
   "id": "2ee76dce",
   "metadata": {},
   "outputs": [],
   "source": []
  },
  {
   "cell_type": "code",
   "execution_count": 172,
   "id": "f3b68ab2",
   "metadata": {},
   "outputs": [
    {
     "data": {
      "text/latex": [
       "$\\displaystyle {1}^{-1} = 1$"
      ],
      "text/plain": [
       "<IPython.core.display.Math object>"
      ]
     },
     "metadata": {},
     "output_type": "display_data"
    },
    {
     "data": {
      "text/latex": [
       "$\\displaystyle {1}^{-2} = 1$"
      ],
      "text/plain": [
       "<IPython.core.display.Math object>"
      ]
     },
     "metadata": {},
     "output_type": "display_data"
    },
    {
     "data": {
      "text/latex": [
       "$\\displaystyle {1}^{-3} = 1$"
      ],
      "text/plain": [
       "<IPython.core.display.Math object>"
      ]
     },
     "metadata": {},
     "output_type": "display_data"
    },
    {
     "data": {
      "text/latex": [
       "$\\displaystyle {1}^{-4} = 1$"
      ],
      "text/plain": [
       "<IPython.core.display.Math object>"
      ]
     },
     "metadata": {},
     "output_type": "display_data"
    },
    {
     "data": {
      "text/latex": [
       "$\\displaystyle {2}^{-1} = 0.5$"
      ],
      "text/plain": [
       "<IPython.core.display.Math object>"
      ]
     },
     "metadata": {},
     "output_type": "display_data"
    },
    {
     "data": {
      "text/latex": [
       "$\\displaystyle {2}^{-2} = 0.25$"
      ],
      "text/plain": [
       "<IPython.core.display.Math object>"
      ]
     },
     "metadata": {},
     "output_type": "display_data"
    },
    {
     "data": {
      "text/latex": [
       "$\\displaystyle {2}^{-3} = 0.125$"
      ],
      "text/plain": [
       "<IPython.core.display.Math object>"
      ]
     },
     "metadata": {},
     "output_type": "display_data"
    },
    {
     "data": {
      "text/latex": [
       "$\\displaystyle {2}^{-4} = 0.0625$"
      ],
      "text/plain": [
       "<IPython.core.display.Math object>"
      ]
     },
     "metadata": {},
     "output_type": "display_data"
    },
    {
     "data": {
      "text/latex": [
       "$\\displaystyle {3}^{-1} = 0.333333$"
      ],
      "text/plain": [
       "<IPython.core.display.Math object>"
      ]
     },
     "metadata": {},
     "output_type": "display_data"
    },
    {
     "data": {
      "text/latex": [
       "$\\displaystyle {3}^{-2} = 0.111111$"
      ],
      "text/plain": [
       "<IPython.core.display.Math object>"
      ]
     },
     "metadata": {},
     "output_type": "display_data"
    },
    {
     "data": {
      "text/latex": [
       "$\\displaystyle {3}^{-3} = 0.037037$"
      ],
      "text/plain": [
       "<IPython.core.display.Math object>"
      ]
     },
     "metadata": {},
     "output_type": "display_data"
    },
    {
     "data": {
      "text/latex": [
       "$\\displaystyle {3}^{-4} = 0.0123457$"
      ],
      "text/plain": [
       "<IPython.core.display.Math object>"
      ]
     },
     "metadata": {},
     "output_type": "display_data"
    }
   ],
   "source": [
    "for base in range(4):\n",
    "    if base > 0:\n",
    "        for exponent in range(5):\n",
    "            if exponent > 0:\n",
    "                display(Math(\"{%g}^{-%g} = %g\" %(base, exponent,base**(-exponent))))"
   ]
  },
  {
   "cell_type": "code",
   "execution_count": null,
   "id": "f9681e4b",
   "metadata": {},
   "outputs": [],
   "source": []
  },
  {
   "cell_type": "markdown",
   "id": "91c83698",
   "metadata": {},
   "source": [
    "### Absolute value"
   ]
  },
  {
   "cell_type": "code",
   "execution_count": 174,
   "id": "f4d80231",
   "metadata": {},
   "outputs": [],
   "source": [
    "# magnitude/ distance"
   ]
  },
  {
   "cell_type": "code",
   "execution_count": 175,
   "id": "e6cdfd43",
   "metadata": {},
   "outputs": [
    {
     "data": {
      "text/plain": [
       "4"
      ]
     },
     "execution_count": 175,
     "metadata": {},
     "output_type": "execute_result"
    }
   ],
   "source": [
    "abs(-4)"
   ]
  },
  {
   "cell_type": "code",
   "execution_count": 176,
   "id": "3d443098",
   "metadata": {},
   "outputs": [],
   "source": [
    "x = -4.3"
   ]
  },
  {
   "cell_type": "code",
   "execution_count": 179,
   "id": "a3788576",
   "metadata": {},
   "outputs": [
    {
     "data": {
      "text/latex": [
       "$\\displaystyle |-4.3| = 4.3$"
      ],
      "text/plain": [
       "<IPython.core.display.Math object>"
      ]
     },
     "metadata": {},
     "output_type": "display_data"
    }
   ],
   "source": [
    "display(Math(f\"|{x}| = {abs(x)}\"))"
   ]
  },
  {
   "cell_type": "code",
   "execution_count": 180,
   "id": "8ed5d419",
   "metadata": {},
   "outputs": [],
   "source": [
    "l = [-4,6,-1,43,-18,2,0]"
   ]
  },
  {
   "cell_type": "code",
   "execution_count": 184,
   "id": "6cef9255",
   "metadata": {},
   "outputs": [
    {
     "name": "stdout",
     "output_type": "stream",
     "text": [
      "-4 was not tested\n",
      "Absolute value of 6 is 6\n",
      "-1 was not tested\n",
      "Absolute value of 43 is 43\n",
      "Absolute value of -18 is 18\n",
      "2 was not tested\n",
      "0 was not tested\n"
     ]
    }
   ],
   "source": [
    "for value in l:\n",
    "    if value >= -5 and value <= 2:\n",
    "        print(f\"{value} was not tested\")\n",
    "    else:\n",
    "        print(f\"Absolute value of {value} is {abs(value)}\")"
   ]
  },
  {
   "cell_type": "code",
   "execution_count": 185,
   "id": "857e1117",
   "metadata": {},
   "outputs": [
    {
     "data": {
      "text/plain": [
       "3.3333333333333335"
      ]
     },
     "execution_count": 185,
     "metadata": {},
     "output_type": "execute_result"
    }
   ],
   "source": [
    "10/3"
   ]
  },
  {
   "cell_type": "code",
   "execution_count": 186,
   "id": "46e3bd87",
   "metadata": {},
   "outputs": [
    {
     "data": {
      "text/plain": [
       "3"
      ]
     },
     "execution_count": 186,
     "metadata": {},
     "output_type": "execute_result"
    }
   ],
   "source": [
    "int(10/3)"
   ]
  },
  {
   "cell_type": "code",
   "execution_count": 187,
   "id": "76b4b21c",
   "metadata": {},
   "outputs": [
    {
     "data": {
      "text/plain": [
       "3"
      ]
     },
     "execution_count": 187,
     "metadata": {},
     "output_type": "execute_result"
    }
   ],
   "source": [
    "10//3"
   ]
  },
  {
   "cell_type": "code",
   "execution_count": 188,
   "id": "4c7ca49b",
   "metadata": {},
   "outputs": [
    {
     "data": {
      "text/plain": [
       "1"
      ]
     },
     "execution_count": 188,
     "metadata": {},
     "output_type": "execute_result"
    }
   ],
   "source": [
    "10%3"
   ]
  },
  {
   "cell_type": "code",
   "execution_count": 197,
   "id": "34a13fdd",
   "metadata": {},
   "outputs": [
    {
     "name": "stdout",
     "output_type": "stream",
     "text": [
      "-5 is an odd number\n",
      "-4 is an even number\n",
      "-3 is an odd number\n",
      "-2 is an even number\n",
      "-1 is an odd number\n",
      " 0 is an even number\n",
      " 1 is an odd number\n",
      " 2 is an even number\n",
      " 3 is an odd number\n",
      " 4 is an even number\n",
      " 5 is an odd number\n"
     ]
    }
   ],
   "source": [
    "for ele in range(-5,6):\n",
    "    firstchar = \"\"\n",
    "    if ele >= 0:\n",
    "        firstchar = \" \"\n",
    "        \n",
    "    if ele%2==0:\n",
    "        print(f\"{firstchar}{ele} is an even number\")\n",
    "    else:\n",
    "        print(f\"{firstchar}{ele} is an odd number\")"
   ]
  },
  {
   "cell_type": "markdown",
   "id": "62f631f3",
   "metadata": {},
   "source": [
    "### Creating Math Function"
   ]
  },
  {
   "cell_type": "code",
   "execution_count": 237,
   "id": "d4f9d062",
   "metadata": {},
   "outputs": [],
   "source": [
    "def compute_remainder():\n",
    "    x = float(input(\"Enter a Numerator:\\n\"))\n",
    "    y = float(input(\"Enter a Denominator:\\n\"))\n",
    "    quotient = x//y\n",
    "    remainder = x%y\n",
    "    \n",
    "    print(f\"{y} goes into {x}, {quotient} times with a remainder of {remainder}\")\n",
    "\n"
   ]
  },
  {
   "cell_type": "code",
   "execution_count": 238,
   "id": "ce5b35ff",
   "metadata": {},
   "outputs": [
    {
     "name": "stdout",
     "output_type": "stream",
     "text": [
      "Enter a Numerator:\n",
      "10\n",
      "Enter a Denominator:\n",
      "3\n",
      "3.0 goes into 10.0, 3.0 times with a remainder of 1.0\n"
     ]
    }
   ],
   "source": [
    "compute_remainder()"
   ]
  },
  {
   "cell_type": "code",
   "execution_count": 242,
   "id": "63df0827",
   "metadata": {},
   "outputs": [],
   "source": [
    "def compute_nums(x,y,switch):\n",
    "    if switch == \"1\":\n",
    "        result = x**y\n",
    "        display(Math(\"{%g}^{%g} = {%g}\"%(x,y,result)))\n",
    "    elif switch == \"2\":\n",
    "        result = x/y\n",
    "        display(Math(\"\\\\frac{%g}{%g} = {%g}\"%(x,y,result)))\n",
    "    else:\n",
    "        display(Math(\"\\\\text{Invalid Selection}\"))\n",
    "\n",
    "def main():\n",
    "    x = float(int(input(\"Input X: \")))\n",
    "    y = float(int(input(\"Input Y: \")))\n",
    "    \n",
    "    display(Math('\\\\text{Press \"1\" to compute }{%g}^{%g}\\\\text{ or press \"2\" to compute }\\\\frac{%g}{%g}' %(x,y,x,y)))\n",
    "    switch = input(\"\")\n",
    "    compute_nums(x,y,switch)        \n",
    "\n",
    "    \n",
    "    "
   ]
  },
  {
   "cell_type": "code",
   "execution_count": 244,
   "id": "553b589c",
   "metadata": {},
   "outputs": [
    {
     "name": "stdout",
     "output_type": "stream",
     "text": [
      "Input X: 2\n",
      "Input Y: 3\n"
     ]
    },
    {
     "data": {
      "text/latex": [
       "$\\displaystyle \\text{Press \"1\" to compute }{2}^{3}\\text{ or press \"2\" to compute }\\frac{2}{3}$"
      ],
      "text/plain": [
       "<IPython.core.display.Math object>"
      ]
     },
     "metadata": {},
     "output_type": "display_data"
    },
    {
     "name": "stdout",
     "output_type": "stream",
     "text": [
      "1\n"
     ]
    },
    {
     "data": {
      "text/latex": [
       "$\\displaystyle {2}^{3} = {8}$"
      ],
      "text/plain": [
       "<IPython.core.display.Math object>"
      ]
     },
     "metadata": {},
     "output_type": "display_data"
    }
   ],
   "source": [
    "main()"
   ]
  },
  {
   "cell_type": "code",
   "execution_count": null,
   "id": "94c5cc6c",
   "metadata": {},
   "outputs": [],
   "source": []
  }
 ],
 "metadata": {
  "kernelspec": {
   "display_name": "Python 3 (ipykernel)",
   "language": "python",
   "name": "python3"
  },
  "language_info": {
   "codemirror_mode": {
    "name": "ipython",
    "version": 3
   },
   "file_extension": ".py",
   "mimetype": "text/x-python",
   "name": "python",
   "nbconvert_exporter": "python",
   "pygments_lexer": "ipython3",
   "version": "3.11.5"
  }
 },
 "nbformat": 4,
 "nbformat_minor": 5
}
