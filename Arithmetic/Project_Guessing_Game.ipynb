{
 "cells": [
  {
   "cell_type": "code",
   "execution_count": 2,
   "id": "4a8b4782",
   "metadata": {},
   "outputs": [],
   "source": [
    "from IPython.display import display, Math\n",
    "import random"
   ]
  },
  {
   "cell_type": "code",
   "execution_count": 5,
   "id": "da27e1ca",
   "metadata": {},
   "outputs": [
    {
     "name": "stdout",
     "output_type": "stream",
     "text": [
      "95\n",
      "Guess the number between 1 and 100 70\n",
      "Guess higher!\n",
      "Guess again 80\n",
      "Guess higher!\n",
      "Guess again 99\n",
      "Guess lower!\n",
      "Guess again 90\n",
      "Guess higher!\n",
      "Guess again 95\n",
      "Got it! The right number was 95 and your final guess was 95.0\n"
     ]
    }
   ],
   "source": [
    "x = random.randint(1,100)\n",
    "print(x)\n",
    "guess = float(input(\"Guess the number between 1 and 100 \"))\n",
    "\n",
    "def guess_the_number(guess):\n",
    "    if x != guess:\n",
    "        \n",
    "        if x > guess:\n",
    "            print(\"Guess higher!\")\n",
    "            guess_num()\n",
    "        elif x < guess:\n",
    "            print(\"Guess lower!\")\n",
    "            guess_num()\n",
    "    \n",
    "\n",
    "    \n",
    "    else:\n",
    "        print(f\"Got it! The right number was {x} and your final guess was {guess}\")\n",
    "    \n",
    "    \n",
    "def guess_num():\n",
    "    guess = float(input(\"Guess again \"))\n",
    "    guess_the_number(guess)\n",
    "    \n",
    "guess_the_number(guess)    \n",
    "    "
   ]
  },
  {
   "cell_type": "code",
   "execution_count": null,
   "id": "904a9d7c",
   "metadata": {},
   "outputs": [],
   "source": []
  }
 ],
 "metadata": {
  "kernelspec": {
   "display_name": "Python 3 (ipykernel)",
   "language": "python",
   "name": "python3"
  },
  "language_info": {
   "codemirror_mode": {
    "name": "ipython",
    "version": 3
   },
   "file_extension": ".py",
   "mimetype": "text/x-python",
   "name": "python",
   "nbconvert_exporter": "python",
   "pygments_lexer": "ipython3",
   "version": "3.11.5"
  }
 },
 "nbformat": 4,
 "nbformat_minor": 5
}
